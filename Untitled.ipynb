{
 "cells": [
  {
   "cell_type": "code",
   "execution_count": 3,
   "metadata": {},
   "outputs": [],
   "source": [
    "#Importing the neccessary packages\n",
    "import pandas as pd\n",
    "import numpy as np\n",
    "import matplotlib.pyplot as plt\n",
    "\n",
    "from sklearn.model_selection import train_test_split, GridSearchCV\n",
    "from sklearn.feature_selection import SelectKBest, chi2\n",
    "from sklearn.linear_model import LogisticRegression\n",
    "from sklearn.preprocessing import OneHotEncoder, StandardScaler, LabelEncoder\n",
    "from sklearn.tree import DecisionTreeClassifier, plot_tree\n",
    "from sklearn.neighbors import KNeighborsClassifier\n",
    "from imblearn.over_sampling import SMOTE\n",
    "from imblearn.under_sampling import RandomUnderSampler\n",
    "from sklearn.metrics import confusion_matrix, accuracy_score, precision_score, f1_score, roc_auc_score\n",
    "from sklearn.compose import ColumnTransformer\n",
    "from sklearn.pipeline import Pipeline\n",
    "from imblearn.pipeline import Pipeline as imb_Pipeline"
   ]
  },
  {
   "cell_type": "code",
   "execution_count": 4,
   "metadata": {},
   "outputs": [
    {
     "name": "stderr",
     "output_type": "stream",
     "text": [
      "C:\\Users\\PC\\AppData\\Local\\Temp\\ipykernel_6744\\198784723.py:1: DtypeWarning: Columns (30,31,32) have mixed types. Specify dtype option on import or set low_memory=False.\n",
      "  crash_df = pd.read_csv('Traffic_Crashes_-_Crashes_20240831.csv')\n"
     ]
    }
   ],
   "source": [
    "\n",
    "crash_df = pd.read_csv('Traffic_Crashes_-_Crashes_20240831.csv')\n",
    "people_df = pd.read_csv('Traffic_Crashes_-_People_20240830.csv', low_memory=False)"
   ]
  },
  {
   "cell_type": "markdown",
   "metadata": {},
   "source": [
    "Dropping Unneccessary Columns\n",
    "Crash_df dropping Justification:\n",
    "\n",
    "RD_NO - Police Dep. Report number, another identifying number associated with each record, we kept CRASH_RECORD_ID as the joining record number for each dataframe.\n",
    "CRASH_DATE_EST_I - used when crash is reported to police days after the crash, this dataframe inclues crash day of week, hour and month so we can drop the specific date.\n",
    "CRASH_DATE - this dataframe inclues crash day of week, hour and month so we can drop the specific date.\n",
    "REPORT_TYPE - administrative report type, not a factor relevant to causing a crash.\n",
    "HIT_AND_RUN_I - not a factor relevant to causing a crash.\n",
    "DATE_POLICE_NOTIFIED - not a factor relevant to causing a crash.\n",
    "BEAT_OF_OCCURENCE - not a factor relevant to causing a crash.\n",
    "PHOTOS_TAKEN_I - not a factor relevant to causing a crash.\n",
    "STATEMENTS_TAKEN - not a factor relevant to causing a crash.\n",
    "LANE_COUNT - Dropping lane count because we found too many null values that we don't want to skew data with mean/median, and don't want to assume a distribution for synthetic data\n",
    "Basing our severity of injury off of information from the people_df dataframe, including this and other injury related columns would cause multicolliniarity in our modeling.\n",
    "\n",
    "MOST_SEVERE_INJURY -\n",
    "INJURIES_FATAL\n",
    "INJURIES_NON_INCAPACITATING\n",
    "INJURIES_REPORTED_NOT_EVIDENT\n",
    "\n",
    "Location related info we dropped - not enough time for the scope of this project\n",
    "\n",
    "LONGITUDE\n",
    "LATITUDE\n",
    "STREET_NO"
   ]
  },
  {
   "cell_type": "code",
   "execution_count": 5,
   "metadata": {},
   "outputs": [],
   "source": [
    "crash_df_cleaned = crash_df[['CRASH_RECORD_ID', 'TRAFFIC_CONTROL_DEVICE', 'DEVICE_CONDITION', \n",
    "                             'WEATHER_CONDITION', 'LIGHTING_CONDITION', 'ROADWAY_SURFACE_COND', \n",
    "                             'CRASH_HOUR', 'CRASH_DAY_OF_WEEK', 'CRASH_MONTH']]"
   ]
  },
  {
   "cell_type": "markdown",
   "metadata": {},
   "source": [
    "people_df dropping dustification:\n",
    "PERSON_ID - unique ID for each person record, will use CRASH_RECORD_ID\n",
    "RD_NO - Police Dep. Report number, another identifying number associated with each record, we kept CRASH_RECORD_ID as the joining record number for each dataframe.\n",
    "VEHICLE_ID - another indentifying factor we don't need\n",
    "CRASH_DATE - time records coming from crash.csv dataset\n",
    "SEAT_NO - too small representation .09% of dataset\n",
    "Location info not looked into:\n",
    "\n",
    "CITY\n",
    "\n",
    "STATE\n",
    "\n",
    "ZIPCODE\n",
    "\n",
    "SEX - not relevant to causing a crash\n",
    "\n",
    "DRIVER_LICENCE_STATE - not a factor relevant\n",
    "\n",
    "DRIVER_LICENCE_CLASS - not a factor relevant\n",
    "\n",
    "SAFETY_EQUIPMENT - included safety equipment worn by pedestrians, cyclists, etc. would have been too time consuming to wade through.\n",
    "\n",
    "AIRBAG_DEPLOYED- not a factor relevant\n",
    "\n",
    "EJECTION not a factor relevant\n",
    "\n",
    "Hospital and EMS info not relevant to learning about causes of crash:\n",
    "\n",
    "HOSPITAL\n",
    "\n",
    "EMS_AGENCY\n",
    "\n",
    "EMS_RUN_NO\n",
    "\n",
    "DRIVER_VISION - 40% of data is unknown vision. Hard to make assumptions fairly\n",
    "\n",
    "PHYSICAL_CONDITION - condition of the driver after the accident does not play a role in causation\n",
    "\n",
    "PEDPEDAL_ACTION - action of a pedestrian varies between instances. Holds no info that city could change\n",
    "\n",
    "PEDPEDAL_VISIBILITY - clothing of the pedestrian holds no info that city could enforce\n",
    "\n",
    "PEDPEDAL_LOCATION - location of the pedestrian at time of crash holds no info that city could enforce\n",
    "\n",
    "CELL_PHONE_USE - not enough data to utlize"
   ]
  },
  {
   "cell_type": "code",
   "execution_count": 6,
   "metadata": {},
   "outputs": [],
   "source": [
    "people_df_cleaned = people_df[['CRASH_RECORD_ID', 'AGE', \n",
    "                               'BAC_RESULT VALUE', 'INJURY_CLASSIFICATION', 'PERSON_TYPE']]"
   ]
  },
  {
   "cell_type": "markdown",
   "metadata": {},
   "source": [
    "Getting only incidents that occured at night:\n",
    "Night = between 10 pm and 6 am, these are the nighttime hours defined by licencing."
   ]
  },
  {
   "cell_type": "code",
   "execution_count": 7,
   "metadata": {},
   "outputs": [
    {
     "data": {
      "text/plain": [
       "Index(['CRASH_RECORD_ID', 'TRAFFIC_CONTROL_DEVICE', 'DEVICE_CONDITION',\n",
       "       'WEATHER_CONDITION', 'LIGHTING_CONDITION', 'ROADWAY_SURFACE_COND',\n",
       "       'CRASH_HOUR', 'CRASH_DAY_OF_WEEK', 'CRASH_MONTH'],\n",
       "      dtype='object')"
      ]
     },
     "execution_count": 7,
     "metadata": {},
     "output_type": "execute_result"
    }
   ],
   "source": [
    "night_time_df = crash_df_cleaned.copy()\n",
    "night_time_df = night_time_df[(night_time_df['CRASH_HOUR'] >= 22) | (night_time_df['CRASH_HOUR'] <= 6)]\n",
    "night_time_df.columns"
   ]
  },
  {
   "cell_type": "markdown",
   "metadata": {},
   "source": [
    "Joining the dataset"
   ]
  },
  {
   "cell_type": "code",
   "execution_count": 8,
   "metadata": {},
   "outputs": [
    {
     "data": {
      "text/plain": [
       "((150164, 9), (1905584, 5))"
      ]
     },
     "execution_count": 8,
     "metadata": {},
     "output_type": "execute_result"
    }
   ],
   "source": [
    "#checking the shape\n",
    "night_time_df.shape, people_df_cleaned.shape"
   ]
  },
  {
   "cell_type": "code",
   "execution_count": 9,
   "metadata": {},
   "outputs": [
    {
     "data": {
      "text/plain": [
       "(301713, 13)"
      ]
     },
     "execution_count": 9,
     "metadata": {},
     "output_type": "execute_result"
    }
   ],
   "source": [
    "merge = pd.merge(night_time_df, people_df_cleaned, how='left', on='CRASH_RECORD_ID')\n",
    "merge.shape"
   ]
  },
  {
   "cell_type": "code",
   "execution_count": 10,
   "metadata": {},
   "outputs": [],
   "source": [
    "#no longer need Crash ID - not useful for modeling\n",
    "merge = merge.drop(columns=['CRASH_RECORD_ID'])"
   ]
  },
  {
   "cell_type": "markdown",
   "metadata": {},
   "source": [
    "Exploring Columns Further\n",
    "Target Variable: INJURY_CLASSIFICATION\n",
    "\n",
    "This includes all people involved in incident, cyclists, passengers, drivers, etc."
   ]
  },
  {
   "cell_type": "code",
   "execution_count": 11,
   "metadata": {},
   "outputs": [],
   "source": [
    "#Making Injury Classification into a binary to indicate \"serious\" incidents\n",
    "# fatal and incapacitate = 1\n",
    "merge.loc[(merge['INJURY_CLASSIFICATION'] == 'FATAL') | \n",
    "           (merge['INJURY_CLASSIFICATION'] == 'INCAPACITATING INJURY') | \n",
    "           (merge['INJURY_CLASSIFICATION'] == 'NONINCAPACITATING INJURY') |\n",
    "           (merge['INJURY_CLASSIFICATION'] == 'REPORTED, NOT EVIDENT'), 'INJURY_CLASSIFICATION'] = 1\n",
    "\n",
    "# else = 0\n",
    "merge.loc[(merge['INJURY_CLASSIFICATION'] == 'NO INDICATION OF INJURY'), 'INJURY_CLASSIFICATION'] = 0\n",
    "\n",
    "merge['INJURY_CLASSIFICATION'].fillna(0, inplace=True)"
   ]
  },
  {
   "cell_type": "code",
   "execution_count": 12,
   "metadata": {},
   "outputs": [
    {
     "data": {
      "text/plain": [
       "INJURY_CLASSIFICATION\n",
       "0    0.880777\n",
       "1    0.119223\n",
       "Name: proportion, dtype: float64"
      ]
     },
     "execution_count": 12,
     "metadata": {},
     "output_type": "execute_result"
    }
   ],
   "source": [
    "#normalizing Injury Classification\n",
    "merge[\"INJURY_CLASSIFICATION\"].value_counts(normalize=True)"
   ]
  },
  {
   "cell_type": "markdown",
   "metadata": {},
   "source": [
    "Traffic control device\n",
    "Transforming traffic control device into a new column, 0 for no control device or a malfunctioning device, 1 for control device functioning properly"
   ]
  },
  {
   "cell_type": "code",
   "execution_count": 13,
   "metadata": {},
   "outputs": [],
   "source": [
    "merge.loc[merge['TRAFFIC_CONTROL_DEVICE'] == 'NO CONTROLS', 'TRAFFIC_CONTROL_DEVICE'] = 0\n",
    "merge.loc[merge['TRAFFIC_CONTROL_DEVICE'] != 0, 'TRAFFIC_CONTROL_DEVICE'] = 1\n",
    "\n",
    "merge.loc[merge.DEVICE_CONDITION == 'FUNCTIONING PROPERLY', 'DEVICE_CONDITION'] = 1\n",
    "merge.loc[merge.DEVICE_CONDITION != 1, 'DEVICE_CONDITION'] = 0\n",
    "\n",
    "merge['DEVICE_CONDITION'] = merge['DEVICE_CONDITION'].astype(float)\n",
    "merge['TRAFFIC_CONTROL_DEVICE'] = merge['TRAFFIC_CONTROL_DEVICE'].astype(float)"
   ]
  },
  {
   "cell_type": "markdown",
   "metadata": {},
   "source": [
    "Weather\n",
    "categorized 1 as clear weather, rest as 0 for unfavorable weather"
   ]
  },
  {
   "cell_type": "code",
   "execution_count": 14,
   "metadata": {},
   "outputs": [],
   "source": [
    "# 1 is clear\n",
    "merge.loc[merge['WEATHER_CONDITION'] == 'CLEAR', 'WEATHER_CONDITION'] = 1\n",
    "\n",
    "# 0 is not clear\n",
    "merge.loc[merge['WEATHER_CONDITION'] != 1, 'WEATHER_CONDITION'] = 0\n",
    "\n",
    "merge['WEATHER_CONDITION'] = merge['WEATHER_CONDITION'].astype(float)"
   ]
  },
  {
   "cell_type": "markdown",
   "metadata": {},
   "source": [
    "Roadway Surface Condition\n",
    "Binned OTHER with UNKNOWN"
   ]
  },
  {
   "cell_type": "code",
   "execution_count": 15,
   "metadata": {},
   "outputs": [],
   "source": [
    "merge.loc[merge['ROADWAY_SURFACE_COND'] == 'OTHER', 'ROADWAY_SURFACE_COND'] = 'UNKNOWN'"
   ]
  },
  {
   "cell_type": "code",
   "execution_count": 16,
   "metadata": {},
   "outputs": [
    {
     "data": {
      "text/plain": [
       "ROADWAY_SURFACE_COND\n",
       "DRY                213381\n",
       "WET                 50778\n",
       "UNKNOWN             25057\n",
       "SNOW OR SLUSH        9767\n",
       "ICE                  2625\n",
       "SAND, MUD, DIRT       105\n",
       "Name: count, dtype: int64"
      ]
     },
     "execution_count": 16,
     "metadata": {},
     "output_type": "execute_result"
    }
   ],
   "source": [
    "merge['ROADWAY_SURFACE_COND'].value_counts()"
   ]
  },
  {
   "cell_type": "markdown",
   "metadata": {},
   "source": [
    "Age\n",
    "AGE had a lot of outliers including some negative ages and zeros which likely were typos. To limit these outliers we dropped them."
   ]
  },
  {
   "cell_type": "code",
   "execution_count": 17,
   "metadata": {},
   "outputs": [],
   "source": [
    "merge.loc[merge['AGE'] <= 0, 'AGE'] = None"
   ]
  },
  {
   "cell_type": "code",
   "execution_count": 18,
   "metadata": {},
   "outputs": [],
   "source": [
    "\n",
    "merge.dropna(subset=['AGE'], inplace=True)"
   ]
  },
  {
   "cell_type": "markdown",
   "metadata": {},
   "source": [
    "Day of week\n",
    "Binned weekends and weekdays, we saw in the histogram crashes occured on weekends more than weekdays"
   ]
  },
  {
   "cell_type": "code",
   "execution_count": 19,
   "metadata": {},
   "outputs": [
    {
     "data": {
      "text/plain": [
       "<BarContainer object of 7 artists>"
      ]
     },
     "execution_count": 19,
     "metadata": {},
     "output_type": "execute_result"
    },
    {
     "data": {
      "image/png": "[encoded data removed]",
      "text/plain": [
       "<Figure size 640x480 with 1 Axes>"
      ]
     },
     "metadata": {},
     "output_type": "display_data"
    }
   ],
   "source": [
    "#Plotting for the presentation to show Day of Week crashes\n",
    "injury_df = merge.copy()\n",
    "\n",
    "injury_df = injury_df.loc[injury_df['INJURY_CLASSIFICATION'] == 1]\n",
    "\n",
    "fig, ax = plt.subplots()\n",
    "\n",
    "ax.bar(list(injury_df['CRASH_DAY_OF_WEEK'].value_counts().index), \n",
    "       injury_df['CRASH_DAY_OF_WEEK'].value_counts().values)"
   ]
  },
  {
   "cell_type": "code",
   "execution_count": 20,
   "metadata": {},
   "outputs": [],
   "source": [
    "# binning weekends and weekday nights\n",
    "\n",
    "# 1 value is a weekend night\n",
    "merge.loc[merge['CRASH_DAY_OF_WEEK'] >= 6, 'CRASH_DAY_OF_WEEK'] = 1\n",
    "\n",
    "# 0 value is a weekday night\n",
    "merge.loc[merge['CRASH_DAY_OF_WEEK'] != 1, 'CRASH_DAY_OF_WEEK'] = 0"
   ]
  },
  {
   "cell_type": "markdown",
   "metadata": {},
   "source": [
    "Blood Alcohol Content\n",
    "For this column we binned the data into 1 = over the legal limit (.08) and 0 = under the limit."
   ]
  },
  {
   "cell_type": "code",
   "execution_count": 21,
   "metadata": {},
   "outputs": [],
   "source": [
    "merge['BAC_RESULT VALUE'].fillna(0, inplace=True)\n",
    "\n",
    "# 1 is drunk\n",
    "merge.loc[merge['BAC_RESULT VALUE'] >= 0.08, 'BAC_RESULT VALUE'] = 1\n",
    "\n",
    "# 0 is not drunk\n",
    "merge.loc[merge['BAC_RESULT VALUE'] < 0.08, 'BAC_RESULT VALUE'] = 0"
   ]
  },
  {
   "cell_type": "markdown",
   "metadata": {},
   "source": [
    "Driver\n",
    "Limited dataset to just show PERSON_TYPE = DRIVER. Pedestrians, cyclists and other people types would not have influence over a car crash as much as a driver would."
   ]
  },
  {
   "cell_type": "code",
   "execution_count": 22,
   "metadata": {},
   "outputs": [],
   "source": [
    "\n",
    "merge = merge.loc[merge['PERSON_TYPE'] == 'DRIVER']\n",
    "merge.drop(columns=['PERSON_TYPE'], inplace=True)"
   ]
  },
  {
   "cell_type": "markdown",
   "metadata": {},
   "source": [
    "Age\n",
    "AGE had a lot of outliers including some negative ages and zeros which likely were typos. To limit these outliers we dropped them."
   ]
  },
  {
   "cell_type": "code",
   "execution_count": 23,
   "metadata": {},
   "outputs": [],
   "source": [
    "merge.loc[merge['AGE'] <= 0, 'AGE'] = None\n",
    "merge.dropna(subset=['AGE'], inplace=True)"
   ]
  },
  {
   "cell_type": "code",
   "execution_count": 24,
   "metadata": {},
   "outputs": [
    {
     "name": "stdout",
     "output_type": "stream",
     "text": [
      "<class 'pandas.core.frame.DataFrame'>\n",
      "Index: 150750 entries, 0 to 301710\n",
      "Data columns (total 11 columns):\n",
      " #   Column                  Non-Null Count   Dtype  \n",
      "---  ------                  --------------   -----  \n",
      " 0   TRAFFIC_CONTROL_DEVICE  150750 non-null  float64\n",
      " 1   DEVICE_CONDITION        150750 non-null  float64\n",
      " 2   WEATHER_CONDITION       150750 non-null  float64\n",
      " 3   LIGHTING_CONDITION      150750 non-null  object \n",
      " 4   ROADWAY_SURFACE_COND    150750 non-null  object \n",
      " 5   CRASH_HOUR              150750 non-null  int64  \n",
      " 6   CRASH_DAY_OF_WEEK       150750 non-null  int64  \n",
      " 7   CRASH_MONTH             150750 non-null  int64  \n",
      " 8   AGE                     150750 non-null  float64\n",
      " 9   BAC_RESULT VALUE        150750 non-null  float64\n",
      " 10  INJURY_CLASSIFICATION   150750 non-null  int64  \n",
      "dtypes: float64(5), int64(4), object(2)\n",
      "memory usage: 13.8+ MB\n"
     ]
    }
   ],
   "source": [
    "final_df = merge.copy()\n",
    "final_df.info()"
   ]
  },
  {
   "cell_type": "code",
   "execution_count": 25,
   "metadata": {},
   "outputs": [],
   "source": [
    "X = final_df.drop(columns=['INJURY_CLASSIFICATION'])\n",
    "y = final_df['INJURY_CLASSIFICATION']"
   ]
  },
  {
   "cell_type": "code",
   "execution_count": 26,
   "metadata": {},
   "outputs": [
    {
     "name": "stdout",
     "output_type": "stream",
     "text": [
      "<class 'pandas.core.frame.DataFrame'>\n",
      "Index: 150750 entries, 0 to 301710\n",
      "Data columns (total 20 columns):\n",
      " #   Column                                     Non-Null Count   Dtype  \n",
      "---  ------                                     --------------   -----  \n",
      " 0   TRAFFIC_CONTROL_DEVICE                     150750 non-null  float64\n",
      " 1   DEVICE_CONDITION                           150750 non-null  float64\n",
      " 2   WEATHER_CONDITION                          150750 non-null  float64\n",
      " 3   CRASH_HOUR                                 150750 non-null  int64  \n",
      " 4   CRASH_DAY_OF_WEEK                          150750 non-null  int64  \n",
      " 5   CRASH_MONTH                                150750 non-null  int64  \n",
      " 6   AGE                                        150750 non-null  float64\n",
      " 7   BAC_RESULT VALUE                           150750 non-null  float64\n",
      " 8   LIGHTING_CONDITION_DARKNESS                150750 non-null  bool   \n",
      " 9   LIGHTING_CONDITION_DARKNESS, LIGHTED ROAD  150750 non-null  bool   \n",
      " 10  LIGHTING_CONDITION_DAWN                    150750 non-null  bool   \n",
      " 11  LIGHTING_CONDITION_DAYLIGHT                150750 non-null  bool   \n",
      " 12  LIGHTING_CONDITION_DUSK                    150750 non-null  bool   \n",
      " 13  LIGHTING_CONDITION_UNKNOWN                 150750 non-null  bool   \n",
      " 14  ROADWAY_SURFACE_COND_DRY                   150750 non-null  bool   \n",
      " 15  ROADWAY_SURFACE_COND_ICE                   150750 non-null  bool   \n",
      " 16  ROADWAY_SURFACE_COND_SAND, MUD, DIRT       150750 non-null  bool   \n",
      " 17  ROADWAY_SURFACE_COND_SNOW OR SLUSH         150750 non-null  bool   \n",
      " 18  ROADWAY_SURFACE_COND_UNKNOWN               150750 non-null  bool   \n",
      " 19  ROADWAY_SURFACE_COND_WET                   150750 non-null  bool   \n",
      "dtypes: bool(12), float64(5), int64(3)\n",
      "memory usage: 12.1 MB\n"
     ]
    }
   ],
   "source": [
    "data_dummies = pd.get_dummies(X)\n",
    "data_dummies.info()"
   ]
  },
  {
   "cell_type": "code",
   "execution_count": 27,
   "metadata": {},
   "outputs": [
    {
     "data": {
      "text/plain": [
       "['LIGHTING_CONDITION', 'ROADWAY_SURFACE_COND']"
      ]
     },
     "execution_count": 27,
     "metadata": {},
     "output_type": "execute_result"
    }
   ],
   "source": [
    "final_df.select_dtypes(include=['object']).columns.tolist()"
   ]
  },
  {
   "cell_type": "code",
   "execution_count": 28,
   "metadata": {},
   "outputs": [],
   "source": [
    "#split X and y into training and testing sets\n",
    "from sklearn.model_selection import train_test_split\n",
    "\n",
    "X_train, X_test, Y_train, Y_test = train_test_split(data_dummies, y, test_size=0.25, random_state=16)"
   ]
  },
  {
   "cell_type": "code",
   "execution_count": 29,
   "metadata": {},
   "outputs": [
    {
     "data": {
      "text/html": [
       "<div>\n",
       "<style scoped>\n",
       "    .dataframe tbody tr th:only-of-type {\n",
       "        vertical-align: middle;\n",
       "    }\n",
       "\n",
       "    .dataframe tbody tr th {\n",
       "        vertical-align: top;\n",
       "    }\n",
       "\n",
       "    .dataframe thead th {\n",
       "        text-align: right;\n",
       "    }\n",
       "</style>\n",
       "<table border=\"1\" class=\"dataframe\">\n",
       "  <thead>\n",
       "    <tr style=\"text-align: right;\">\n",
       "      <th></th>\n",
       "      <th>TRAFFIC_CONTROL_DEVICE</th>\n",
       "      <th>DEVICE_CONDITION</th>\n",
       "      <th>WEATHER_CONDITION</th>\n",
       "      <th>CRASH_HOUR</th>\n",
       "      <th>CRASH_DAY_OF_WEEK</th>\n",
       "      <th>CRASH_MONTH</th>\n",
       "      <th>AGE</th>\n",
       "      <th>BAC_RESULT VALUE</th>\n",
       "      <th>LIGHTING_CONDITION_DARKNESS</th>\n",
       "      <th>LIGHTING_CONDITION_DARKNESS, LIGHTED ROAD</th>\n",
       "      <th>LIGHTING_CONDITION_DAWN</th>\n",
       "      <th>LIGHTING_CONDITION_DAYLIGHT</th>\n",
       "      <th>LIGHTING_CONDITION_DUSK</th>\n",
       "      <th>LIGHTING_CONDITION_UNKNOWN</th>\n",
       "      <th>ROADWAY_SURFACE_COND_DRY</th>\n",
       "      <th>ROADWAY_SURFACE_COND_ICE</th>\n",
       "      <th>ROADWAY_SURFACE_COND_SAND, MUD, DIRT</th>\n",
       "      <th>ROADWAY_SURFACE_COND_SNOW OR SLUSH</th>\n",
       "      <th>ROADWAY_SURFACE_COND_UNKNOWN</th>\n",
       "      <th>ROADWAY_SURFACE_COND_WET</th>\n",
       "    </tr>\n",
       "  </thead>\n",
       "  <tbody>\n",
       "    <tr>\n",
       "      <th>0</th>\n",
       "      <td>-1.125933</td>\n",
       "      <td>-0.927692</td>\n",
       "      <td>-1.862533</td>\n",
       "      <td>-0.837879</td>\n",
       "      <td>0.880688</td>\n",
       "      <td>0.696786</td>\n",
       "      <td>0.009181</td>\n",
       "      <td>-0.086049</td>\n",
       "      <td>-0.321356</td>\n",
       "      <td>0.666676</td>\n",
       "      <td>-0.221903</td>\n",
       "      <td>-0.388201</td>\n",
       "      <td>-0.122368</td>\n",
       "      <td>-0.148049</td>\n",
       "      <td>-1.567355</td>\n",
       "      <td>-0.10318</td>\n",
       "      <td>-0.016561</td>\n",
       "      <td>-0.188185</td>\n",
       "      <td>-0.259514</td>\n",
       "      <td>2.125791</td>\n",
       "    </tr>\n",
       "    <tr>\n",
       "      <th>1</th>\n",
       "      <td>0.888152</td>\n",
       "      <td>1.077944</td>\n",
       "      <td>-1.862533</td>\n",
       "      <td>-0.943328</td>\n",
       "      <td>0.880688</td>\n",
       "      <td>-1.089501</td>\n",
       "      <td>-0.579418</td>\n",
       "      <td>-0.086049</td>\n",
       "      <td>3.111810</td>\n",
       "      <td>-1.499978</td>\n",
       "      <td>-0.221903</td>\n",
       "      <td>-0.388201</td>\n",
       "      <td>-0.122368</td>\n",
       "      <td>-0.148049</td>\n",
       "      <td>-1.567355</td>\n",
       "      <td>-0.10318</td>\n",
       "      <td>-0.016561</td>\n",
       "      <td>-0.188185</td>\n",
       "      <td>-0.259514</td>\n",
       "      <td>2.125791</td>\n",
       "    </tr>\n",
       "    <tr>\n",
       "      <th>2</th>\n",
       "      <td>0.888152</td>\n",
       "      <td>1.077944</td>\n",
       "      <td>0.536903</td>\n",
       "      <td>-0.521533</td>\n",
       "      <td>0.880688</td>\n",
       "      <td>0.101357</td>\n",
       "      <td>-0.726567</td>\n",
       "      <td>-0.086049</td>\n",
       "      <td>-0.321356</td>\n",
       "      <td>-1.499978</td>\n",
       "      <td>-0.221903</td>\n",
       "      <td>-0.388201</td>\n",
       "      <td>8.172085</td>\n",
       "      <td>-0.148049</td>\n",
       "      <td>0.638017</td>\n",
       "      <td>-0.10318</td>\n",
       "      <td>-0.016561</td>\n",
       "      <td>-0.188185</td>\n",
       "      <td>-0.259514</td>\n",
       "      <td>-0.470413</td>\n",
       "    </tr>\n",
       "    <tr>\n",
       "      <th>3</th>\n",
       "      <td>-1.125933</td>\n",
       "      <td>-0.927692</td>\n",
       "      <td>0.536903</td>\n",
       "      <td>-0.521533</td>\n",
       "      <td>0.880688</td>\n",
       "      <td>0.101357</td>\n",
       "      <td>-0.505843</td>\n",
       "      <td>-0.086049</td>\n",
       "      <td>-0.321356</td>\n",
       "      <td>-1.499978</td>\n",
       "      <td>-0.221903</td>\n",
       "      <td>2.575988</td>\n",
       "      <td>-0.122368</td>\n",
       "      <td>-0.148049</td>\n",
       "      <td>0.638017</td>\n",
       "      <td>-0.10318</td>\n",
       "      <td>-0.016561</td>\n",
       "      <td>-0.188185</td>\n",
       "      <td>-0.259514</td>\n",
       "      <td>-0.470413</td>\n",
       "    </tr>\n",
       "    <tr>\n",
       "      <th>4</th>\n",
       "      <td>0.888152</td>\n",
       "      <td>1.077944</td>\n",
       "      <td>-1.862533</td>\n",
       "      <td>-0.416084</td>\n",
       "      <td>0.880688</td>\n",
       "      <td>-1.387215</td>\n",
       "      <td>-0.285118</td>\n",
       "      <td>-0.086049</td>\n",
       "      <td>-0.321356</td>\n",
       "      <td>-1.499978</td>\n",
       "      <td>4.506476</td>\n",
       "      <td>-0.388201</td>\n",
       "      <td>-0.122368</td>\n",
       "      <td>-0.148049</td>\n",
       "      <td>-1.567355</td>\n",
       "      <td>-0.10318</td>\n",
       "      <td>-0.016561</td>\n",
       "      <td>-0.188185</td>\n",
       "      <td>-0.259514</td>\n",
       "      <td>2.125791</td>\n",
       "    </tr>\n",
       "  </tbody>\n",
       "</table>\n",
       "</div>"
      ],
      "text/plain": [
       "   TRAFFIC_CONTROL_DEVICE  DEVICE_CONDITION  WEATHER_CONDITION  CRASH_HOUR  \\\n",
       "0               -1.125933         -0.927692          -1.862533   -0.837879   \n",
       "1                0.888152          1.077944          -1.862533   -0.943328   \n",
       "2                0.888152          1.077944           0.536903   -0.521533   \n",
       "3               -1.125933         -0.927692           0.536903   -0.521533   \n",
       "4                0.888152          1.077944          -1.862533   -0.416084   \n",
       "\n",
       "   CRASH_DAY_OF_WEEK  CRASH_MONTH       AGE  BAC_RESULT VALUE  \\\n",
       "0           0.880688     0.696786  0.009181         -0.086049   \n",
       "1           0.880688    -1.089501 -0.579418         -0.086049   \n",
       "2           0.880688     0.101357 -0.726567         -0.086049   \n",
       "3           0.880688     0.101357 -0.505843         -0.086049   \n",
       "4           0.880688    -1.387215 -0.285118         -0.086049   \n",
       "\n",
       "   LIGHTING_CONDITION_DARKNESS  LIGHTING_CONDITION_DARKNESS, LIGHTED ROAD  \\\n",
       "0                    -0.321356                                   0.666676   \n",
       "1                     3.111810                                  -1.499978   \n",
       "2                    -0.321356                                  -1.499978   \n",
       "3                    -0.321356                                  -1.499978   \n",
       "4                    -0.321356                                  -1.499978   \n",
       "\n",
       "   LIGHTING_CONDITION_DAWN  LIGHTING_CONDITION_DAYLIGHT  \\\n",
       "0                -0.221903                    -0.388201   \n",
       "1                -0.221903                    -0.388201   \n",
       "2                -0.221903                    -0.388201   \n",
       "3                -0.221903                     2.575988   \n",
       "4                 4.506476                    -0.388201   \n",
       "\n",
       "   LIGHTING_CONDITION_DUSK  LIGHTING_CONDITION_UNKNOWN  \\\n",
       "0                -0.122368                   -0.148049   \n",
       "1                -0.122368                   -0.148049   \n",
       "2                 8.172085                   -0.148049   \n",
       "3                -0.122368                   -0.148049   \n",
       "4                -0.122368                   -0.148049   \n",
       "\n",
       "   ROADWAY_SURFACE_COND_DRY  ROADWAY_SURFACE_COND_ICE  \\\n",
       "0                 -1.567355                  -0.10318   \n",
       "1                 -1.567355                  -0.10318   \n",
       "2                  0.638017                  -0.10318   \n",
       "3                  0.638017                  -0.10318   \n",
       "4                 -1.567355                  -0.10318   \n",
       "\n",
       "   ROADWAY_SURFACE_COND_SAND, MUD, DIRT  ROADWAY_SURFACE_COND_SNOW OR SLUSH  \\\n",
       "0                             -0.016561                           -0.188185   \n",
       "1                             -0.016561                           -0.188185   \n",
       "2                             -0.016561                           -0.188185   \n",
       "3                             -0.016561                           -0.188185   \n",
       "4                             -0.016561                           -0.188185   \n",
       "\n",
       "   ROADWAY_SURFACE_COND_UNKNOWN  ROADWAY_SURFACE_COND_WET  \n",
       "0                     -0.259514                  2.125791  \n",
       "1                     -0.259514                  2.125791  \n",
       "2                     -0.259514                 -0.470413  \n",
       "3                     -0.259514                 -0.470413  \n",
       "4                     -0.259514                  2.125791  "
      ]
     },
     "execution_count": 29,
     "metadata": {},
     "output_type": "execute_result"
    }
   ],
   "source": [
    "from sklearn.preprocessing import StandardScaler\n",
    "scaler = StandardScaler()\n",
    "scaled_df = scaler.fit_transform(data_dummies)\n",
    "# Transform the training and test sets\n",
    "scaled_data_train = scaler.fit_transform(X_train)\n",
    "scaled_data_test = scaler.transform(X_test)\n",
    "\n",
    "# Convert into a DataFrame\n",
    "scaled_df_train = pd.DataFrame(scaled_data_train, columns=X_train.columns)\n",
    "scaled_df_train.head()"
   ]
  },
  {
   "cell_type": "code",
   "execution_count": 30,
   "metadata": {},
   "outputs": [
    {
     "data": {
      "text/plain": [
       "array([0, 0, 0, ..., 0, 0, 0], dtype=int64)"
      ]
     },
     "execution_count": 30,
     "metadata": {},
     "output_type": "execute_result"
    }
   ],
   "source": [
    "# import the class\n",
    "from sklearn.linear_model import LogisticRegression\n",
    "\n",
    "# instantiate the model (using the default parameters)\n",
    "logreg = LogisticRegression(random_state=16)\n",
    "\n",
    "# fit the model with data\n",
    "logreg.fit(scaled_data_train, Y_train)\n",
    "\n",
    "y_pred = logreg.predict(scaled_data_test)\n",
    "\n",
    "y_pred"
   ]
  },
  {
   "cell_type": "code",
   "execution_count": 31,
   "metadata": {},
   "outputs": [
    {
     "data": {
      "text/plain": [
       "array([[32817,     0],\n",
       "       [ 4871,     0]], dtype=int64)"
      ]
     },
     "execution_count": 31,
     "metadata": {},
     "output_type": "execute_result"
    }
   ],
   "source": [
    "#model evaluation using confusion matrix\n",
    "# import the metrics class\n",
    "from sklearn import metrics\n",
    "\n",
    "cnf_matrix = metrics.confusion_matrix(Y_test, y_pred)\n",
    "cnf_matrix"
   ]
  },
  {
   "cell_type": "code",
   "execution_count": 32,
   "metadata": {},
   "outputs": [
    {
     "data": {
      "text/plain": [
       "<Figure size 1000x1000 with 0 Axes>"
      ]
     },
     "metadata": {},
     "output_type": "display_data"
    },
    {
     "data": {
      "image/png": "[encoded data removed]",
      "text/plain": [
       "<Figure size 640x480 with 2 Axes>"
      ]
     },
     "metadata": {},
     "output_type": "display_data"
    }
   ],
   "source": [
    "from sklearn.metrics import confusion_matrix, ConfusionMatrixDisplay\n",
    "plt.figure(figsize =(10,10))\n",
    "ConfusionMatrixDisplay.from_estimator(logreg, scaled_data_test, Y_test)\n",
    "\n",
    "plt.xticks(\n",
    "    rotation=45, \n",
    "    horizontalalignment='right',\n",
    "    fontsize='small'  \n",
    ")\n",
    "plt.show()"
   ]
  },
  {
   "cell_type": "code",
   "execution_count": 33,
   "metadata": {},
   "outputs": [],
   "source": [
    "from sklearn.tree import DecisionTreeClassifier,DecisionTreeRegressor\n",
    "from sklearn.metrics import classification_report\n",
    "from sklearn.tree import plot_tree"
   ]
  },
  {
   "cell_type": "code",
   "execution_count": 34,
   "metadata": {},
   "outputs": [
    {
     "data": {
      "text/html": [
       "<style>#sk-container-id-1 {color: black;background-color: white;}#sk-container-id-1 pre{padding: 0;}#sk-container-id-1 div.sk-toggleable {background-color: white;}#sk-container-id-1 label.sk-toggleable__label {cursor: pointer;display: block;width: 100%;margin-bottom: 0;padding: 0.3em;box-sizing: border-box;text-align: center;}#sk-container-id-1 label.sk-toggleable__label-arrow:before {content: \"▸\";float: left;margin-right: 0.25em;color: #696969;}#sk-container-id-1 label.sk-toggleable__label-arrow:hover:before {color: black;}#sk-container-id-1 div.sk-estimator:hover label.sk-toggleable__label-arrow:before {color: black;}#sk-container-id-1 div.sk-toggleable__content {max-height: 0;max-width: 0;overflow: hidden;text-align: left;background-color: #f0f8ff;}#sk-container-id-1 div.sk-toggleable__content pre {margin: 0.2em;color: black;border-radius: 0.25em;background-color: #f0f8ff;}#sk-container-id-1 input.sk-toggleable__control:checked~div.sk-toggleable__content {max-height: 200px;max-width: 100%;overflow: auto;}#sk-container-id-1 input.sk-toggleable__control:checked~label.sk-toggleable__label-arrow:before {content: \"▾\";}#sk-container-id-1 div.sk-estimator input.sk-toggleable__control:checked~label.sk-toggleable__label {background-color: #d4ebff;}#sk-container-id-1 div.sk-label input.sk-toggleable__control:checked~label.sk-toggleable__label {background-color: #d4ebff;}#sk-container-id-1 input.sk-hidden--visually {border: 0;clip: rect(1px 1px 1px 1px);clip: rect(1px, 1px, 1px, 1px);height: 1px;margin: -1px;overflow: hidden;padding: 0;position: absolute;width: 1px;}#sk-container-id-1 div.sk-estimator {font-family: monospace;background-color: #f0f8ff;border: 1px dotted black;border-radius: 0.25em;box-sizing: border-box;margin-bottom: 0.5em;}#sk-container-id-1 div.sk-estimator:hover {background-color: #d4ebff;}#sk-container-id-1 div.sk-parallel-item::after {content: \"\";width: 100%;border-bottom: 1px solid gray;flex-grow: 1;}#sk-container-id-1 div.sk-label:hover label.sk-toggleable__label {background-color: #d4ebff;}#sk-container-id-1 div.sk-serial::before {content: \"\";position: absolute;border-left: 1px solid gray;box-sizing: border-box;top: 0;bottom: 0;left: 50%;z-index: 0;}#sk-container-id-1 div.sk-serial {display: flex;flex-direction: column;align-items: center;background-color: white;padding-right: 0.2em;padding-left: 0.2em;position: relative;}#sk-container-id-1 div.sk-item {position: relative;z-index: 1;}#sk-container-id-1 div.sk-parallel {display: flex;align-items: stretch;justify-content: center;background-color: white;position: relative;}#sk-container-id-1 div.sk-item::before, #sk-container-id-1 div.sk-parallel-item::before {content: \"\";position: absolute;border-left: 1px solid gray;box-sizing: border-box;top: 0;bottom: 0;left: 50%;z-index: -1;}#sk-container-id-1 div.sk-parallel-item {display: flex;flex-direction: column;z-index: 1;position: relative;background-color: white;}#sk-container-id-1 div.sk-parallel-item:first-child::after {align-self: flex-end;width: 50%;}#sk-container-id-1 div.sk-parallel-item:last-child::after {align-self: flex-start;width: 50%;}#sk-container-id-1 div.sk-parallel-item:only-child::after {width: 0;}#sk-container-id-1 div.sk-dashed-wrapped {border: 1px dashed gray;margin: 0 0.4em 0.5em 0.4em;box-sizing: border-box;padding-bottom: 0.4em;background-color: white;}#sk-container-id-1 div.sk-label label {font-family: monospace;font-weight: bold;display: inline-block;line-height: 1.2em;}#sk-container-id-1 div.sk-label-container {text-align: center;}#sk-container-id-1 div.sk-container {/* jupyter's `normalize.less` sets `[hidden] { display: none; }` but bootstrap.min.css set `[hidden] { display: none !important; }` so we also need the `!important` here to be able to override the default hidden behavior on the sphinx rendered scikit-learn.org. See: https://github.com/scikit-learn/scikit-learn/issues/21755 */display: inline-block !important;position: relative;}#sk-container-id-1 div.sk-text-repr-fallback {display: none;}</style><div id=\"sk-container-id-1\" class=\"sk-top-container\"><div class=\"sk-text-repr-fallback\"><pre>DecisionTreeClassifier()</pre><b>In a Jupyter environment, please rerun this cell to show the HTML representation or trust the notebook. <br />On GitHub, the HTML representation is unable to render, please try loading this page with nbviewer.org.</b></div><div class=\"sk-container\" hidden><div class=\"sk-item\"><div class=\"sk-estimator sk-toggleable\"><input class=\"sk-toggleable__control sk-hidden--visually\" id=\"sk-estimator-id-1\" type=\"checkbox\" checked><label for=\"sk-estimator-id-1\" class=\"sk-toggleable__label sk-toggleable__label-arrow\">DecisionTreeClassifier</label><div class=\"sk-toggleable__content\"><pre>DecisionTreeClassifier()</pre></div></div></div></div></div>"
      ],
      "text/plain": [
       "DecisionTreeClassifier()"
      ]
     },
     "execution_count": 34,
     "metadata": {},
     "output_type": "execute_result"
    }
   ],
   "source": [
    "dst_model = DecisionTreeClassifier()\n",
    "dst_model.fit(X_train,Y_train)"
   ]
  },
  {
   "cell_type": "code",
   "execution_count": 35,
   "metadata": {},
   "outputs": [],
   "source": [
    "Y_predicted = dst_model.predict(X_test)"
   ]
  },
  {
   "cell_type": "code",
   "execution_count": 36,
   "metadata": {},
   "outputs": [
    {
     "name": "stdout",
     "output_type": "stream",
     "text": [
      "              precision    recall  f1-score   support\n",
      "\n",
      "           0       0.87      0.92      0.90     32817\n",
      "           1       0.15      0.09      0.11      4871\n",
      "\n",
      "    accuracy                           0.82     37688\n",
      "   macro avg       0.51      0.51      0.50     37688\n",
      "weighted avg       0.78      0.82      0.80     37688\n",
      "\n"
     ]
    }
   ],
   "source": [
    "print(classification_report(Y_test,Y_predicted))"
   ]
  },
  {
   "cell_type": "code",
   "execution_count": 37,
   "metadata": {},
   "outputs": [
    {
     "data": {
      "text/plain": [
       "<Figure size 1000x1000 with 0 Axes>"
      ]
     },
     "metadata": {},
     "output_type": "display_data"
    },
    {
     "data": {
      "image/png": "[encoded data removed]",
      "text/plain": [
       "<Figure size 640x480 with 2 Axes>"
      ]
     },
     "metadata": {},
     "output_type": "display_data"
    }
   ],
   "source": [
    "from sklearn.metrics import confusion_matrix, ConfusionMatrixDisplay\n",
    "plt.figure(figsize =(10,10))\n",
    "ConfusionMatrixDisplay.from_estimator(dst_model, X_test, Y_test)\n",
    "\n",
    "plt.xticks(\n",
    "    rotation=45, \n",
    "    horizontalalignment='right',\n",
    "    fontsize='small'  \n",
    ")\n",
    "plt.show()"
   ]
  },
  {
   "cell_type": "code",
   "execution_count": 38,
   "metadata": {},
   "outputs": [],
   "source": [
    "from sklearn.neighbors import KNeighborsClassifier # K-nearest Neighbors\n",
    "# Instantiate KNeighborsClassifier\n",
    "clf = KNeighborsClassifier()\n",
    "\n",
    "# Fit the classifier\n",
    "clf.fit(scaled_data_train, Y_train)\n",
    "\n",
    "# Predict on the test set\n",
    "test_preds = clf.predict(scaled_data_test)"
   ]
  },
  {
   "cell_type": "code",
   "execution_count": 41,
   "metadata": {},
   "outputs": [],
   "source": [
    "from sklearn.metrics import precision_score, recall_score, accuracy_score, f1_score, roc_curve, auc, r2_score, mean_squared_error"
   ]
  },
  {
   "cell_type": "code",
   "execution_count": 42,
   "metadata": {},
   "outputs": [
    {
     "name": "stdout",
     "output_type": "stream",
     "text": [
      "Precision Score: 0.7822063493570108\n",
      "Recall Score: 0.8562672468690299\n",
      "Accuracy Score: 0.8562672468690299\n",
      "F1 Score: 0.8098638294466505\n"
     ]
    }
   ],
   "source": [
    "def print_metrics(labels, preds):\n",
    "    print(\"Precision Score: {}\".format(precision_score(labels, preds, average= 'weighted')))\n",
    "    print(\"Recall Score: {}\".format(recall_score(labels, preds,average='weighted')))\n",
    "    print(\"Accuracy Score: {}\".format(accuracy_score(labels, preds)))\n",
    "    print(\"F1 Score: {}\".format(f1_score(labels, preds,average= 'weighted')))\n",
    "    \n",
    "print_metrics(Y_test, test_preds)"
   ]
  },
  {
   "cell_type": "code",
   "execution_count": 43,
   "metadata": {},
   "outputs": [],
   "source": [
    "def find_best_k(X_train, Y_train, X_test, Y_test, min_k=1, max_k=10):\n",
    "    best_k = 0\n",
    "    best_score = 0.0\n",
    "    for k in range(min_k, max_k+1, 2):\n",
    "        knn = KNeighborsClassifier(n_neighbors=k)\n",
    "        knn.fit(X_train, Y_train)\n",
    "        preds = knn.predict(X_test)\n",
    "        f1 = f1_score(Y_test, preds,average= 'weighted')\n",
    "        if f1 > best_score:\n",
    "            best_k = k\n",
    "            best_score = f1\n",
    "    \n",
    "    print(\"Best Value for k: {}\".format(best_k))\n",
    "    print(\"F1-Score: {}\".format(best_score))"
   ]
  },
  {
   "cell_type": "code",
   "execution_count": 44,
   "metadata": {},
   "outputs": [
    {
     "name": "stdout",
     "output_type": "stream",
     "text": [
      "Best Value for k: 9\n",
      "F1-Score: 0.8110131868690867\n"
     ]
    }
   ],
   "source": [
    "find_best_k(scaled_data_train, Y_train, scaled_data_test, Y_test)"
   ]
  },
  {
   "cell_type": "code",
   "execution_count": 45,
   "metadata": {},
   "outputs": [],
   "source": [
    "X_train = scaled_data_train\n",
    "X_test = scaled_data_test"
   ]
  },
  {
   "cell_type": "code",
   "execution_count": 46,
   "metadata": {},
   "outputs": [],
   "source": [
    "clf = KNeighborsClassifier(n_neighbors = 9)\n",
    "\n",
    "# Fit the classifier\n",
    "clf.fit(X_train, Y_train)\n",
    "\n",
    "# Predict on the test set\n",
    "test_preds = clf.predict(X_test)"
   ]
  },
  {
   "cell_type": "code",
   "execution_count": 47,
   "metadata": {},
   "outputs": [
    {
     "name": "stdout",
     "output_type": "stream",
     "text": [
      "Precision Score: 0.7842505158591584\n",
      "Recall Score: 0.866801103799618\n",
      "Accuracy Score: 0.866801103799618\n",
      "F1 Score: 0.8110131868690867\n"
     ]
    }
   ],
   "source": [
    "print_metrics(Y_test, test_preds)"
   ]
  },
  {
   "cell_type": "code",
   "execution_count": 48,
   "metadata": {},
   "outputs": [
    {
     "data": {
      "text/plain": [
       "<Figure size 1000x1000 with 0 Axes>"
      ]
     },
     "metadata": {},
     "output_type": "display_data"
    },
    {
     "data": {
      "image/png": "[encoded data removed]",
      "text/plain": [
       "<Figure size 640x480 with 2 Axes>"
      ]
     },
     "metadata": {},
     "output_type": "display_data"
    }
   ],
   "source": [
    "from sklearn.metrics import confusion_matrix, ConfusionMatrixDisplay\n",
    "plt.figure(figsize =(10,10))\n",
    "ConfusionMatrixDisplay.from_estimator(clf, X_test, Y_test)\n",
    "\n",
    "plt.xticks(\n",
    "    rotation=45, \n",
    "    horizontalalignment='right',\n",
    "    fontsize='small'  \n",
    ")\n",
    "plt.show()"
   ]
  },
  {
   "cell_type": "code",
   "execution_count": null,
   "metadata": {},
   "outputs": [],
   "source": []
  }
 ],
 "metadata": {
  "kernelspec": {
   "display_name": "base",
   "language": "python",
   "name": "python3"
  },
  "language_info": {
   "codemirror_mode": {
    "name": "ipython",
    "version": 3
   },
   "file_extension": ".py",
   "mimetype": "text/x-python",
   "name": "python",
   "nbconvert_exporter": "python",
   "pygments_lexer": "ipython3",
   "version": "3.11.7"
  }
 },
 "nbformat": 4,
 "nbformat_minor": 2
}
